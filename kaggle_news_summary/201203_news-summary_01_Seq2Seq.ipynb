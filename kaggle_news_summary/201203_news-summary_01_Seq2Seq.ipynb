{
 "cells": [
  {
   "cell_type": "markdown",
   "metadata": {
    "papermill": {
     "duration": 0.014463,
     "end_time": "2020-12-13T07:30:51.280643",
     "exception": false,
     "start_time": "2020-12-13T07:30:51.266180",
     "status": "completed"
    },
    "tags": []
   },
   "source": [
    "### ref : www.kaggle.com/sandeepbhogaraju/text-summarization-with-seq2seq-model\n",
    "### ref : https://wikidocs.net/72820\n",
    "### ref : https://lovit.github.io/nlp/2019/04/30/textrank/\n",
    "### ref : https://frhyme.github.io/python-lib/nlp_spacy_1/"
   ]
  },
  {
   "cell_type": "code",
   "execution_count": 1,
   "metadata": {
    "_cell_guid": "b1076dfc-b9ad-4769-8c92-a6c4dae69d19",
    "_uuid": "8f2839f25d086af736a60e9eeb907d3b93b6e0e5",
    "execution": {
     "iopub.execute_input": "2020-12-13T07:30:51.307999Z",
     "iopub.status.busy": "2020-12-13T07:30:51.307258Z",
     "iopub.status.idle": "2020-12-13T07:30:52.174615Z",
     "shell.execute_reply": "2020-12-13T07:30:52.173940Z"
    },
    "papermill": {
     "duration": 0.882162,
     "end_time": "2020-12-13T07:30:52.174757",
     "exception": false,
     "start_time": "2020-12-13T07:30:51.292595",
     "status": "completed"
    },
    "tags": []
   },
   "outputs": [
    {
     "name": "stdout",
     "output_type": "stream",
     "text": [
      "/kaggle/input/news-summary/news_summary_more.csv\n",
      "/kaggle/input/news-summary/news_summary.csv\n"
     ]
    }
   ],
   "source": [
    "import numpy as np # linear algebra\n",
    "import pandas as pd # data processing, CSV file I/O (e.g. pd.read_csv)\n",
    "\n",
    "import re\n",
    "import spacy\n",
    "\n",
    "import matplotlib.pyplot as plt\n",
    "\n",
    "import os\n",
    "for dirname, _, filenames in os.walk('/kaggle/input'):\n",
    "    for filename in filenames:\n",
    "        print(os.path.join(dirname, filename))\n",
    "\n",
    "\n",
    "# Function for checking dataframe\n",
    "def show_table(df, sample_num=2):\n",
    "    print('>>> shape :', df.shape)\n",
    "    print('>>> number of NA :', df.isna().sum().sum())\n",
    "    \n",
    "    if df.shape[0] <= sample_num*2:\n",
    "        display(df)\n",
    "    else:\n",
    "        display(pd.concat([df.head(sample_num), df.tail(sample_num)]))"
   ]
  },
  {
   "cell_type": "markdown",
   "metadata": {
    "papermill": {
     "duration": 0.012623,
     "end_time": "2020-12-13T07:30:52.201940",
     "exception": false,
     "start_time": "2020-12-13T07:30:52.189317",
     "status": "completed"
    },
    "tags": []
   },
   "source": [
    "## Prepare Data"
   ]
  },
  {
   "cell_type": "code",
   "execution_count": 2,
   "metadata": {
    "_cell_guid": "79c7e3d0-c299-4dcb-8224-4455121ee9b0",
    "_uuid": "d629ff2d2480ee46fbb7e2d37f6b5fab8052498a",
    "execution": {
     "iopub.execute_input": "2020-12-13T07:30:52.233714Z",
     "iopub.status.busy": "2020-12-13T07:30:52.233000Z",
     "iopub.status.idle": "2020-12-13T07:30:53.414861Z",
     "shell.execute_reply": "2020-12-13T07:30:53.415767Z"
    },
    "papermill": {
     "duration": 1.200964,
     "end_time": "2020-12-13T07:30:53.415983",
     "exception": false,
     "start_time": "2020-12-13T07:30:52.215019",
     "status": "completed"
    },
    "tags": []
   },
   "outputs": [
    {
     "name": "stdout",
     "output_type": "stream",
     "text": [
      ">>> shape : (98401, 2)\n",
      ">>> number of NA : 0\n"
     ]
    },
    {
     "data": {
      "text/html": [
       "<div>\n",
       "<style scoped>\n",
       "    .dataframe tbody tr th:only-of-type {\n",
       "        vertical-align: middle;\n",
       "    }\n",
       "\n",
       "    .dataframe tbody tr th {\n",
       "        vertical-align: top;\n",
       "    }\n",
       "\n",
       "    .dataframe thead th {\n",
       "        text-align: right;\n",
       "    }\n",
       "</style>\n",
       "<table border=\"1\" class=\"dataframe\">\n",
       "  <thead>\n",
       "    <tr style=\"text-align: right;\">\n",
       "      <th></th>\n",
       "      <th>headlines</th>\n",
       "      <th>text</th>\n",
       "    </tr>\n",
       "  </thead>\n",
       "  <tbody>\n",
       "    <tr>\n",
       "      <th>0</th>\n",
       "      <td>upGrad learner switches to career in ML &amp; Al w...</td>\n",
       "      <td>Saurav Kant, an alumnus of upGrad and IIIT-B's...</td>\n",
       "    </tr>\n",
       "    <tr>\n",
       "      <th>1</th>\n",
       "      <td>Delhi techie wins free food from Swiggy for on...</td>\n",
       "      <td>Kunal Shah's credit card bill payment platform...</td>\n",
       "    </tr>\n",
       "    <tr>\n",
       "      <th>98399</th>\n",
       "      <td>Snoop Dogg aims gun at clown dressed as Trump ...</td>\n",
       "      <td>A new music video shows rapper Snoop Dogg aimi...</td>\n",
       "    </tr>\n",
       "    <tr>\n",
       "      <th>98400</th>\n",
       "      <td>Madhesi Morcha withdraws support to Nepalese g...</td>\n",
       "      <td>Madhesi Morcha, an alliance of seven political...</td>\n",
       "    </tr>\n",
       "  </tbody>\n",
       "</table>\n",
       "</div>"
      ],
      "text/plain": [
       "                                               headlines  \\\n",
       "0      upGrad learner switches to career in ML & Al w...   \n",
       "1      Delhi techie wins free food from Swiggy for on...   \n",
       "98399  Snoop Dogg aims gun at clown dressed as Trump ...   \n",
       "98400  Madhesi Morcha withdraws support to Nepalese g...   \n",
       "\n",
       "                                                    text  \n",
       "0      Saurav Kant, an alumnus of upGrad and IIIT-B's...  \n",
       "1      Kunal Shah's credit card bill payment platform...  \n",
       "98399  A new music video shows rapper Snoop Dogg aimi...  \n",
       "98400  Madhesi Morcha, an alliance of seven political...  "
      ]
     },
     "metadata": {},
     "output_type": "display_data"
    }
   ],
   "source": [
    "raw_df = pd.read_csv('../input/news-summary/news_summary_more.csv', encoding='iso-8859-1')\n",
    "show_table(raw_df)"
   ]
  },
  {
   "cell_type": "code",
   "execution_count": 3,
   "metadata": {
    "_cell_guid": "79c7e3d0-c299-4dcb-8224-4455121ee9b0",
    "_uuid": "d629ff2d2480ee46fbb7e2d37f6b5fab8052498a",
    "execution": {
     "iopub.execute_input": "2020-12-13T07:30:53.452822Z",
     "iopub.status.busy": "2020-12-13T07:30:53.452039Z",
     "iopub.status.idle": "2020-12-13T07:30:53.822125Z",
     "shell.execute_reply": "2020-12-13T07:30:53.822657Z"
    },
    "papermill": {
     "duration": 0.391431,
     "end_time": "2020-12-13T07:30:53.822799",
     "exception": false,
     "start_time": "2020-12-13T07:30:53.431368",
     "status": "completed"
    },
    "tags": []
   },
   "outputs": [
    {
     "name": "stdout",
     "output_type": "stream",
     "text": [
      ">>> shape : (4514, 7)\n",
      ">>> number of NA : 236\n"
     ]
    },
    {
     "data": {
      "text/html": [
       "<div>\n",
       "<style scoped>\n",
       "    .dataframe tbody tr th:only-of-type {\n",
       "        vertical-align: middle;\n",
       "    }\n",
       "\n",
       "    .dataframe tbody tr th {\n",
       "        vertical-align: top;\n",
       "    }\n",
       "\n",
       "    .dataframe thead th {\n",
       "        text-align: right;\n",
       "    }\n",
       "</style>\n",
       "<table border=\"1\" class=\"dataframe\">\n",
       "  <thead>\n",
       "    <tr style=\"text-align: right;\">\n",
       "      <th></th>\n",
       "      <th>author</th>\n",
       "      <th>date</th>\n",
       "      <th>headlines</th>\n",
       "      <th>read_more</th>\n",
       "      <th>text</th>\n",
       "      <th>ctext</th>\n",
       "      <th>text_concat</th>\n",
       "    </tr>\n",
       "  </thead>\n",
       "  <tbody>\n",
       "    <tr>\n",
       "      <th>0</th>\n",
       "      <td>Chhavi Tyagi</td>\n",
       "      <td>03 Aug 2017,Thursday</td>\n",
       "      <td>Daman &amp; Diu revokes mandatory Rakshabandhan in...</td>\n",
       "      <td>http://www.hindustantimes.com/india-news/raksh...</td>\n",
       "      <td>The Administration of Union Territory Daman an...</td>\n",
       "      <td>The Daman and Diu administration on Wednesday ...</td>\n",
       "      <td>Chhavi Tyagi 03 Aug 2017,Thursday http://www.h...</td>\n",
       "    </tr>\n",
       "    <tr>\n",
       "      <th>1</th>\n",
       "      <td>Daisy Mowke</td>\n",
       "      <td>03 Aug 2017,Thursday</td>\n",
       "      <td>Malaika slams user who trolled her for 'divorc...</td>\n",
       "      <td>http://www.hindustantimes.com/bollywood/malaik...</td>\n",
       "      <td>Malaika Arora slammed an Instagram user who tr...</td>\n",
       "      <td>From her special numbers to TV?appearances, Bo...</td>\n",
       "      <td>Daisy Mowke 03 Aug 2017,Thursday http://www.hi...</td>\n",
       "    </tr>\n",
       "    <tr>\n",
       "      <th>4512</th>\n",
       "      <td>Pragya Swastik</td>\n",
       "      <td>07 Dec 2016,Wednesday</td>\n",
       "      <td>Asha Bhosle gets ?53,000 power bill for unused...</td>\n",
       "      <td>http://indiatoday.intoday.in/story/singer-asha...</td>\n",
       "      <td>The Maharashtra government has initiated an in...</td>\n",
       "      <td>Maharahstra Power Minister Chandrashekhar Bawa...</td>\n",
       "      <td>Pragya Swastik 07 Dec 2016,Wednesday http://in...</td>\n",
       "    </tr>\n",
       "    <tr>\n",
       "      <th>4513</th>\n",
       "      <td>Chhavi Tyagi</td>\n",
       "      <td>03 Aug 2017,Thursday</td>\n",
       "      <td>More than half of India's languages may die in...</td>\n",
       "      <td>http://indiatoday.intoday.in/story/indian-lang...</td>\n",
       "      <td>At least 400 languages or more than half langu...</td>\n",
       "      <td>More than half of the languages spoken by Indi...</td>\n",
       "      <td>Chhavi Tyagi 03 Aug 2017,Thursday http://india...</td>\n",
       "    </tr>\n",
       "  </tbody>\n",
       "</table>\n",
       "</div>"
      ],
      "text/plain": [
       "              author                   date  \\\n",
       "0       Chhavi Tyagi   03 Aug 2017,Thursday   \n",
       "1        Daisy Mowke   03 Aug 2017,Thursday   \n",
       "4512  Pragya Swastik  07 Dec 2016,Wednesday   \n",
       "4513    Chhavi Tyagi   03 Aug 2017,Thursday   \n",
       "\n",
       "                                              headlines  \\\n",
       "0     Daman & Diu revokes mandatory Rakshabandhan in...   \n",
       "1     Malaika slams user who trolled her for 'divorc...   \n",
       "4512  Asha Bhosle gets ?53,000 power bill for unused...   \n",
       "4513  More than half of India's languages may die in...   \n",
       "\n",
       "                                              read_more  \\\n",
       "0     http://www.hindustantimes.com/india-news/raksh...   \n",
       "1     http://www.hindustantimes.com/bollywood/malaik...   \n",
       "4512  http://indiatoday.intoday.in/story/singer-asha...   \n",
       "4513  http://indiatoday.intoday.in/story/indian-lang...   \n",
       "\n",
       "                                                   text  \\\n",
       "0     The Administration of Union Territory Daman an...   \n",
       "1     Malaika Arora slammed an Instagram user who tr...   \n",
       "4512  The Maharashtra government has initiated an in...   \n",
       "4513  At least 400 languages or more than half langu...   \n",
       "\n",
       "                                                  ctext  \\\n",
       "0     The Daman and Diu administration on Wednesday ...   \n",
       "1     From her special numbers to TV?appearances, Bo...   \n",
       "4512  Maharahstra Power Minister Chandrashekhar Bawa...   \n",
       "4513  More than half of the languages spoken by Indi...   \n",
       "\n",
       "                                            text_concat  \n",
       "0     Chhavi Tyagi 03 Aug 2017,Thursday http://www.h...  \n",
       "1     Daisy Mowke 03 Aug 2017,Thursday http://www.hi...  \n",
       "4512  Pragya Swastik 07 Dec 2016,Wednesday http://in...  \n",
       "4513  Chhavi Tyagi 03 Aug 2017,Thursday http://india...  "
      ]
     },
     "metadata": {},
     "output_type": "display_data"
    }
   ],
   "source": [
    "summary_df = pd.read_csv('../input/news-summary/news_summary.csv', encoding='iso-8859-1')\n",
    "summary_df['text_concat'] = summary_df['author'].str.cat(summary_df['date'], sep=' ').str.cat(summary_df['read_more'], sep=' ').str.cat(summary_df['text'], sep=' ').str.cat(summary_df['ctext'], sep=' ')\n",
    "show_table(summary_df)"
   ]
  },
  {
   "cell_type": "code",
   "execution_count": 4,
   "metadata": {
    "execution": {
     "iopub.execute_input": "2020-12-13T07:30:53.871389Z",
     "iopub.status.busy": "2020-12-13T07:30:53.870103Z",
     "iopub.status.idle": "2020-12-13T07:30:53.932458Z",
     "shell.execute_reply": "2020-12-13T07:30:53.933270Z"
    },
    "papermill": {
     "duration": 0.095001,
     "end_time": "2020-12-13T07:30:53.933527",
     "exception": false,
     "start_time": "2020-12-13T07:30:53.838526",
     "status": "completed"
    },
    "tags": []
   },
   "outputs": [
    {
     "name": "stdout",
     "output_type": "stream",
     "text": [
      ">>> shape : (102915, 2)\n",
      ">>> number of NA : 118\n"
     ]
    },
    {
     "data": {
      "text/html": [
       "<div>\n",
       "<style scoped>\n",
       "    .dataframe tbody tr th:only-of-type {\n",
       "        vertical-align: middle;\n",
       "    }\n",
       "\n",
       "    .dataframe tbody tr th {\n",
       "        vertical-align: top;\n",
       "    }\n",
       "\n",
       "    .dataframe thead th {\n",
       "        text-align: right;\n",
       "    }\n",
       "</style>\n",
       "<table border=\"1\" class=\"dataframe\">\n",
       "  <thead>\n",
       "    <tr style=\"text-align: right;\">\n",
       "      <th></th>\n",
       "      <th>text</th>\n",
       "      <th>summary</th>\n",
       "    </tr>\n",
       "  </thead>\n",
       "  <tbody>\n",
       "    <tr>\n",
       "      <th>0</th>\n",
       "      <td>Saurav Kant, an alumnus of upGrad and IIIT-B's...</td>\n",
       "      <td>upGrad learner switches to career in ML &amp; Al w...</td>\n",
       "    </tr>\n",
       "    <tr>\n",
       "      <th>1</th>\n",
       "      <td>Kunal Shah's credit card bill payment platform...</td>\n",
       "      <td>Delhi techie wins free food from Swiggy for on...</td>\n",
       "    </tr>\n",
       "    <tr>\n",
       "      <th>102913</th>\n",
       "      <td>Pragya Swastik 07 Dec 2016,Wednesday http://in...</td>\n",
       "      <td>Asha Bhosle gets ?53,000 power bill for unused...</td>\n",
       "    </tr>\n",
       "    <tr>\n",
       "      <th>102914</th>\n",
       "      <td>Chhavi Tyagi 03 Aug 2017,Thursday http://india...</td>\n",
       "      <td>More than half of India's languages may die in...</td>\n",
       "    </tr>\n",
       "  </tbody>\n",
       "</table>\n",
       "</div>"
      ],
      "text/plain": [
       "                                                     text  \\\n",
       "0       Saurav Kant, an alumnus of upGrad and IIIT-B's...   \n",
       "1       Kunal Shah's credit card bill payment platform...   \n",
       "102913  Pragya Swastik 07 Dec 2016,Wednesday http://in...   \n",
       "102914  Chhavi Tyagi 03 Aug 2017,Thursday http://india...   \n",
       "\n",
       "                                                  summary  \n",
       "0       upGrad learner switches to career in ML & Al w...  \n",
       "1       Delhi techie wins free food from Swiggy for on...  \n",
       "102913  Asha Bhosle gets ?53,000 power bill for unused...  \n",
       "102914  More than half of India's languages may die in...  "
      ]
     },
     "metadata": {},
     "output_type": "display_data"
    }
   ],
   "source": [
    "pre_df = pd.DataFrame({\n",
    "    'text':pd.concat([raw_df['text'], summary_df['text_concat']], ignore_index=True),\n",
    "    'summary':pd.concat([raw_df['headlines'], summary_df['headlines']], ignore_index=True)\n",
    "})\n",
    "show_table(pre_df)"
   ]
  },
  {
   "cell_type": "markdown",
   "metadata": {
    "papermill": {
     "duration": 0.017275,
     "end_time": "2020-12-13T07:30:53.969019",
     "exception": false,
     "start_time": "2020-12-13T07:30:53.951744",
     "status": "completed"
    },
    "tags": []
   },
   "source": [
    "## Perform Data Cleaning"
   ]
  },
  {
   "cell_type": "code",
   "execution_count": 5,
   "metadata": {
    "execution": {
     "iopub.execute_input": "2020-12-13T07:30:54.022263Z",
     "iopub.status.busy": "2020-12-13T07:30:54.021181Z",
     "iopub.status.idle": "2020-12-13T07:30:54.025254Z",
     "shell.execute_reply": "2020-12-13T07:30:54.024668Z"
    },
    "papermill": {
     "duration": 0.037097,
     "end_time": "2020-12-13T07:30:54.025383",
     "exception": false,
     "start_time": "2020-12-13T07:30:53.988286",
     "status": "completed"
    },
    "tags": []
   },
   "outputs": [],
   "source": [
    "# Function for removing non-alphabetic characters from string - order of regex is very important\n",
    "def text_strip(input_str):\n",
    "    # remove escape characters\n",
    "    res_str = re.sub('(\\\\t)', ' ', str(input_str)).lower()\n",
    "    res_str = re.sub('(\\\\r)', ' ', res_str)\n",
    "    res_str = re.sub('(\\\\n)', ' ', res_str)\n",
    "    \n",
    "    # remove ( _ - ~ + . ) if it occurs more than one time consequently \n",
    "    res_str = re.sub('(__+)', ' ', res_str)\n",
    "    res_str = re.sub('(--+)', ' ', res_str)\n",
    "    res_str = re.sub('(\\+\\++)', ' ', res_str)\n",
    "    res_str = re.sub('(\\,\\,+)', ' ', res_str)\n",
    "    # res_str = re.sub('(~~+)', ' ', res_str)\n",
    "    \n",
    "    # remove certain characters\n",
    "    res_str = re.sub(r'[<>()|&©ø\\[\\]\\'\\\",;?~*!]', ' ', res_str)\n",
    "    res_str = re.sub('(mailto:)', ' ', res_str)\n",
    "    \n",
    "    res_str = re.sub(r'(\\\\x9\\d)', ' ', res_str)  # remove \\x9#\n",
    "    \n",
    "    res_str = re.sub('([Ii][Nn][Cc]\\d+)', 'INC_NUM', res_str)  # replace INC nums with INC_NUM\n",
    "    res_str = re.sub('([Cc][Mm]\\d+)|([Cc][Hh][Gg]\\d+)', 'CM_NUM', res_str)  # replace CM# and CHG# with CM_NUM\n",
    "    \n",
    "    # remove ( . - : ) at end of words (not between)\n",
    "    res_str = re.sub('(\\.\\s+)', ' ', res_str)\n",
    "    res_str = re.sub('(\\-\\s+)', ' ', res_str)\n",
    "    res_str = re.sub('(\\:\\s+)', ' ', res_str)\n",
    "    \n",
    "    res_str = re.sub('(\\s+.\\s)', ' ', res_str)  # remove any single characters hanging between 2 spaces\n",
    "    \n",
    "    # replace any url such as https://abc.xyz.net/browse/sdf-5327 ==> abc.xyz.net\n",
    "    try:\n",
    "        url = re.search(r'((https*:\\/*)([^\\/\\s]+))(.[^\\s]+)', res_str)\n",
    "        repl_url = url.group(3)\n",
    "        res_str = re.sub(r'((https*:\\/*)([^\\/\\s]+))(.[^\\s]+)', repl_url, res_str)\n",
    "    except:\n",
    "        pass  # there might be emails without url in them\n",
    "    \n",
    "    res_str = re.sub('(\\s+)', ' ', res_str)  # remove multiple spaces\n",
    "    res_str = re.sub('(\\s+.\\s+)', ' ', res_str)  # remove any single characters hanging between 2 spaces (Should always be last)\n",
    "    \n",
    "    return res_str"
   ]
  },
  {
   "cell_type": "code",
   "execution_count": 6,
   "metadata": {
    "execution": {
     "iopub.execute_input": "2020-12-13T07:30:54.066385Z",
     "iopub.status.busy": "2020-12-13T07:30:54.065184Z",
     "iopub.status.idle": "2020-12-13T07:31:25.245974Z",
     "shell.execute_reply": "2020-12-13T07:31:25.244182Z"
    },
    "papermill": {
     "duration": 31.2038,
     "end_time": "2020-12-13T07:31:25.246135",
     "exception": false,
     "start_time": "2020-12-13T07:30:54.042335",
     "status": "completed"
    },
    "tags": []
   },
   "outputs": [
    {
     "name": "stdout",
     "output_type": "stream",
     "text": [
      ">>> shape : (102915, 2)\n",
      ">>> number of NA : 118\n"
     ]
    },
    {
     "data": {
      "text/html": [
       "<div>\n",
       "<style scoped>\n",
       "    .dataframe tbody tr th:only-of-type {\n",
       "        vertical-align: middle;\n",
       "    }\n",
       "\n",
       "    .dataframe tbody tr th {\n",
       "        vertical-align: top;\n",
       "    }\n",
       "\n",
       "    .dataframe thead th {\n",
       "        text-align: right;\n",
       "    }\n",
       "</style>\n",
       "<table border=\"1\" class=\"dataframe\">\n",
       "  <thead>\n",
       "    <tr style=\"text-align: right;\">\n",
       "      <th></th>\n",
       "      <th>text</th>\n",
       "      <th>text</th>\n",
       "    </tr>\n",
       "  </thead>\n",
       "  <tbody>\n",
       "    <tr>\n",
       "      <th>0</th>\n",
       "      <td>Saurav Kant, an alumnus of upGrad and IIIT-B's...</td>\n",
       "      <td>saurav kant an alumnus of upgrad and iiit-b pg...</td>\n",
       "    </tr>\n",
       "    <tr>\n",
       "      <th>1</th>\n",
       "      <td>Kunal Shah's credit card bill payment platform...</td>\n",
       "      <td>kunal shah credit card bill payment platform c...</td>\n",
       "    </tr>\n",
       "    <tr>\n",
       "      <th>102913</th>\n",
       "      <td>Pragya Swastik 07 Dec 2016,Wednesday http://in...</td>\n",
       "      <td>pragya swastik 07 dec 2016 wednesday indiatoda...</td>\n",
       "    </tr>\n",
       "    <tr>\n",
       "      <th>102914</th>\n",
       "      <td>Chhavi Tyagi 03 Aug 2017,Thursday http://india...</td>\n",
       "      <td>chhavi tyagi 03 aug 2017 thursday indiatoday.i...</td>\n",
       "    </tr>\n",
       "  </tbody>\n",
       "</table>\n",
       "</div>"
      ],
      "text/plain": [
       "                                                     text  \\\n",
       "0       Saurav Kant, an alumnus of upGrad and IIIT-B's...   \n",
       "1       Kunal Shah's credit card bill payment platform...   \n",
       "102913  Pragya Swastik 07 Dec 2016,Wednesday http://in...   \n",
       "102914  Chhavi Tyagi 03 Aug 2017,Thursday http://india...   \n",
       "\n",
       "                                                     text  \n",
       "0       saurav kant an alumnus of upgrad and iiit-b pg...  \n",
       "1       kunal shah credit card bill payment platform c...  \n",
       "102913  pragya swastik 07 dec 2016 wednesday indiatoda...  \n",
       "102914  chhavi tyagi 03 aug 2017 thursday indiatoday.i...  "
      ]
     },
     "metadata": {},
     "output_type": "display_data"
    },
    {
     "name": "stdout",
     "output_type": "stream",
     "text": [
      "CPU times: user 31 s, sys: 81.7 ms, total: 31.1 s\n",
      "Wall time: 31.2 s\n"
     ]
    }
   ],
   "source": [
    "%%time\n",
    "\n",
    "brief_cleaning1 = pre_df['text'].apply(text_strip)\n",
    "brief_cleaning2 = pre_df['summary'].apply(text_strip)\n",
    "\n",
    "show_table(pd.concat([pre_df['text'], brief_cleaning1], axis=1))"
   ]
  },
  {
   "cell_type": "markdown",
   "metadata": {
    "papermill": {
     "duration": 0.016648,
     "end_time": "2020-12-13T07:31:25.279864",
     "exception": false,
     "start_time": "2020-12-13T07:31:25.263216",
     "status": "completed"
    },
    "tags": []
   },
   "source": [
    "## Perform Data Cleaning - spaCy"
   ]
  },
  {
   "cell_type": "code",
   "execution_count": 7,
   "metadata": {
    "execution": {
     "iopub.execute_input": "2020-12-13T07:31:25.319919Z",
     "iopub.status.busy": "2020-12-13T07:31:25.318722Z",
     "iopub.status.idle": "2020-12-13T07:31:26.506292Z",
     "shell.execute_reply": "2020-12-13T07:31:26.506891Z"
    },
    "papermill": {
     "duration": 1.210242,
     "end_time": "2020-12-13T07:31:26.507049",
     "exception": false,
     "start_time": "2020-12-13T07:31:25.296807",
     "status": "completed"
    },
    "tags": []
   },
   "outputs": [
    {
     "name": "stdout",
     "output_type": "stream",
     "text": [
      "<spacy.lang.en.English object at 0x7fabb0d40550>\n"
     ]
    }
   ],
   "source": [
    "nlp = spacy.load('en', disable=['ner', 'parser'])  # disable unneeded pipline components (ner, parser)\n",
    "print(nlp)"
   ]
  },
  {
   "cell_type": "code",
   "execution_count": 8,
   "metadata": {
    "execution": {
     "iopub.execute_input": "2020-12-13T07:31:26.562369Z",
     "iopub.status.busy": "2020-12-13T07:31:26.557212Z",
     "iopub.status.idle": "2020-12-13T07:38:01.378448Z",
     "shell.execute_reply": "2020-12-13T07:38:01.378991Z"
    },
    "papermill": {
     "duration": 394.854314,
     "end_time": "2020-12-13T07:38:01.379174",
     "exception": false,
     "start_time": "2020-12-13T07:31:26.524860",
     "status": "completed"
    },
    "tags": []
   },
   "outputs": [
    {
     "name": "stdout",
     "output_type": "stream",
     "text": [
      "CPU times: user 4min 56s, sys: 1min 38s, total: 6min 34s\n",
      "Wall time: 6min 34s\n"
     ]
    }
   ],
   "source": [
    "%%time\n",
    "# Taking advantage of spaCy .pipe() method to speed-up the cleaning process\n",
    "# If data loss seems to be happening in this call, decrease the batch_size parameter\n",
    "\n",
    "# Takes about 6-7 mins\n",
    "pre_df['text_cleaned'] = pd.Series(nlp.pipe(brief_cleaning1, batch_size=5000, n_threads=-1)).astype(str)"
   ]
  },
  {
   "cell_type": "code",
   "execution_count": 9,
   "metadata": {
    "execution": {
     "iopub.execute_input": "2020-12-13T07:38:01.474497Z",
     "iopub.status.busy": "2020-12-13T07:38:01.463826Z",
     "iopub.status.idle": "2020-12-13T07:38:56.079174Z",
     "shell.execute_reply": "2020-12-13T07:38:56.080141Z"
    },
    "papermill": {
     "duration": 54.683239,
     "end_time": "2020-12-13T07:38:56.080404",
     "exception": false,
     "start_time": "2020-12-13T07:38:01.397165",
     "status": "completed"
    },
    "tags": []
   },
   "outputs": [
    {
     "name": "stdout",
     "output_type": "stream",
     "text": [
      "CPU times: user 54.6 s, sys: 13 ms, total: 54.6 s\n",
      "Wall time: 54.6 s\n"
     ]
    }
   ],
   "source": [
    "%%time\n",
    "# Taking advantage of spaCy .pipe() method to speed-up the cleaning process\n",
    "# If data loss seems to be happening in this call, decrease the batch_size parameter\n",
    "\n",
    "# Takes about 1-2 mins\n",
    "pre_df['summary_cleaned'] = pd.Series(nlp.pipe(brief_cleaning2, batch_size=5000, n_threads=-1)).astype(str)\n",
    "pre_df['summary_cleaned'] = pre_df['summary_cleaned'].apply(lambda sent : '_START_'+sent+'_END_')"
   ]
  },
  {
   "cell_type": "code",
   "execution_count": 10,
   "metadata": {
    "execution": {
     "iopub.execute_input": "2020-12-13T07:38:56.123326Z",
     "iopub.status.busy": "2020-12-13T07:38:56.122631Z",
     "iopub.status.idle": "2020-12-13T07:38:56.948006Z",
     "shell.execute_reply": "2020-12-13T07:38:56.948853Z"
    },
    "papermill": {
     "duration": 0.84809,
     "end_time": "2020-12-13T07:38:56.949100",
     "exception": false,
     "start_time": "2020-12-13T07:38:56.101010",
     "status": "completed"
    },
    "tags": []
   },
   "outputs": [
    {
     "name": "stdout",
     "output_type": "stream",
     "text": [
      ">>> shape : (102915, 6)\n",
      ">>> number of NA : 118\n"
     ]
    },
    {
     "data": {
      "text/html": [
       "<div>\n",
       "<style scoped>\n",
       "    .dataframe tbody tr th:only-of-type {\n",
       "        vertical-align: middle;\n",
       "    }\n",
       "\n",
       "    .dataframe tbody tr th {\n",
       "        vertical-align: top;\n",
       "    }\n",
       "\n",
       "    .dataframe thead th {\n",
       "        text-align: right;\n",
       "    }\n",
       "</style>\n",
       "<table border=\"1\" class=\"dataframe\">\n",
       "  <thead>\n",
       "    <tr style=\"text-align: right;\">\n",
       "      <th></th>\n",
       "      <th>text</th>\n",
       "      <th>summary</th>\n",
       "      <th>text_cleaned</th>\n",
       "      <th>summary_cleaned</th>\n",
       "      <th>text_cleaned_wordcnt</th>\n",
       "      <th>summary_cleaned_wordcnt</th>\n",
       "    </tr>\n",
       "  </thead>\n",
       "  <tbody>\n",
       "    <tr>\n",
       "      <th>0</th>\n",
       "      <td>Saurav Kant, an alumnus of upGrad and IIIT-B's...</td>\n",
       "      <td>upGrad learner switches to career in ML &amp; Al w...</td>\n",
       "      <td>saurav kant an alumnus of upgrad and iiit-b pg...</td>\n",
       "      <td>_START_upgrad learner switches to career in ml...</td>\n",
       "      <td>56</td>\n",
       "      <td>12</td>\n",
       "    </tr>\n",
       "    <tr>\n",
       "      <th>1</th>\n",
       "      <td>Kunal Shah's credit card bill payment platform...</td>\n",
       "      <td>Delhi techie wins free food from Swiggy for on...</td>\n",
       "      <td>kunal shah credit card bill payment platform c...</td>\n",
       "      <td>_START_delhi techie wins free food from swiggy...</td>\n",
       "      <td>58</td>\n",
       "      <td>12</td>\n",
       "    </tr>\n",
       "    <tr>\n",
       "      <th>102913</th>\n",
       "      <td>Pragya Swastik 07 Dec 2016,Wednesday http://in...</td>\n",
       "      <td>Asha Bhosle gets ?53,000 power bill for unused...</td>\n",
       "      <td>pragya swastik 07 dec 2016 wednesday indiatoda...</td>\n",
       "      <td>_START_asha bhosle gets 53 000 power bill for ...</td>\n",
       "      <td>278</td>\n",
       "      <td>10</td>\n",
       "    </tr>\n",
       "    <tr>\n",
       "      <th>102914</th>\n",
       "      <td>Chhavi Tyagi 03 Aug 2017,Thursday http://india...</td>\n",
       "      <td>More than half of India's languages may die in...</td>\n",
       "      <td>chhavi tyagi 03 aug 2017 thursday indiatoday.i...</td>\n",
       "      <td>_START_more than half of india languages may d...</td>\n",
       "      <td>326</td>\n",
       "      <td>11</td>\n",
       "    </tr>\n",
       "  </tbody>\n",
       "</table>\n",
       "</div>"
      ],
      "text/plain": [
       "                                                     text  \\\n",
       "0       Saurav Kant, an alumnus of upGrad and IIIT-B's...   \n",
       "1       Kunal Shah's credit card bill payment platform...   \n",
       "102913  Pragya Swastik 07 Dec 2016,Wednesday http://in...   \n",
       "102914  Chhavi Tyagi 03 Aug 2017,Thursday http://india...   \n",
       "\n",
       "                                                  summary  \\\n",
       "0       upGrad learner switches to career in ML & Al w...   \n",
       "1       Delhi techie wins free food from Swiggy for on...   \n",
       "102913  Asha Bhosle gets ?53,000 power bill for unused...   \n",
       "102914  More than half of India's languages may die in...   \n",
       "\n",
       "                                             text_cleaned  \\\n",
       "0       saurav kant an alumnus of upgrad and iiit-b pg...   \n",
       "1       kunal shah credit card bill payment platform c...   \n",
       "102913  pragya swastik 07 dec 2016 wednesday indiatoda...   \n",
       "102914  chhavi tyagi 03 aug 2017 thursday indiatoday.i...   \n",
       "\n",
       "                                          summary_cleaned  \\\n",
       "0       _START_upgrad learner switches to career in ml...   \n",
       "1       _START_delhi techie wins free food from swiggy...   \n",
       "102913  _START_asha bhosle gets 53 000 power bill for ...   \n",
       "102914  _START_more than half of india languages may d...   \n",
       "\n",
       "        text_cleaned_wordcnt  summary_cleaned_wordcnt  \n",
       "0                         56                       12  \n",
       "1                         58                       12  \n",
       "102913                   278                       10  \n",
       "102914                   326                       11  "
      ]
     },
     "metadata": {},
     "output_type": "display_data"
    }
   ],
   "source": [
    "pre_df['text_cleaned_wordcnt'] = pre_df['text_cleaned'].apply(lambda sent : len(sent.split()))\n",
    "pre_df['summary_cleaned_wordcnt'] = pre_df['summary_cleaned'].apply(lambda sent : len(sent.split()))\n",
    "\n",
    "show_table(pre_df)"
   ]
  },
  {
   "cell_type": "markdown",
   "metadata": {
    "papermill": {
     "duration": 0.019716,
     "end_time": "2020-12-13T07:38:56.989894",
     "exception": false,
     "start_time": "2020-12-13T07:38:56.970178",
     "status": "completed"
    },
    "tags": []
   },
   "source": [
    "## Check the result of Data Cleaning"
   ]
  },
  {
   "cell_type": "code",
   "execution_count": 11,
   "metadata": {
    "execution": {
     "iopub.execute_input": "2020-12-13T07:38:57.036009Z",
     "iopub.status.busy": "2020-12-13T07:38:57.035333Z",
     "iopub.status.idle": "2020-12-13T07:38:57.043539Z",
     "shell.execute_reply": "2020-12-13T07:38:57.044578Z"
    },
    "papermill": {
     "duration": 0.034952,
     "end_time": "2020-12-13T07:38:57.044735",
     "exception": false,
     "start_time": "2020-12-13T07:38:57.009783",
     "status": "completed"
    },
    "tags": []
   },
   "outputs": [
    {
     "name": "stdout",
     "output_type": "stream",
     "text": [
      ">>> text : Saurav Kant, an alumnus of upGrad and IIIT-B's PG Program in Machine learning and Artificial Intelligence, was a Sr Systems Engineer at Infosys with almost 5 years of work experience. The program and upGrad's 360-degree career support helped him transition to a Data Scientist at Tech Mahindra with 90% salary hike. upGrad's Online Power Learning has powered 3 lakh+ careers.\n",
      "\n",
      ">>> text_cleaned : saurav kant an alumnus of upgrad and iiit-b pg program in machine learning and artificial intelligence was sr systems engineer at infosys with almost years of work experience the program and upgrad 360-degree career support helped him transition to data scientist at tech mahindra with 90% salary hike upgrad online power learning has powered lakh+ careers.\n",
      "\n",
      ">>> summary : upGrad learner switches to career in ML & Al with 90% salary hike\n",
      "\n",
      ">>> summary_cleaned : _START_upgrad learner switches to career in ml al with 90% salary hike_END_\n",
      "\n"
     ]
    }
   ],
   "source": [
    "# Check first sample of each col\n",
    "for col in ['text', 'text_cleaned', 'summary', 'summary_cleaned']:\n",
    "    print(f'>>> {col} : {pre_df.loc[0, col]}\\n')"
   ]
  },
  {
   "cell_type": "code",
   "execution_count": 12,
   "metadata": {
    "execution": {
     "iopub.execute_input": "2020-12-13T07:38:57.094048Z",
     "iopub.status.busy": "2020-12-13T07:38:57.093265Z",
     "iopub.status.idle": "2020-12-13T07:38:57.644937Z",
     "shell.execute_reply": "2020-12-13T07:38:57.644334Z"
    },
    "papermill": {
     "duration": 0.580071,
     "end_time": "2020-12-13T07:38:57.645069",
     "exception": false,
     "start_time": "2020-12-13T07:38:57.064998",
     "status": "completed"
    },
    "tags": []
   },
   "outputs": [
    {
     "data": {
      "image/png": "[encoded data removed]",
      "text/plain": [
       "<Figure size 864x360 with 2 Axes>"
      ]
     },
     "metadata": {
      "needs_background": "light"
     },
     "output_type": "display_data"
    },
    {
     "name": "stdout",
     "output_type": "stream",
     "text": [
      ">>> summary with 0-15 words : 99.97%\n",
      ">>> text with 0-100 words   : 95.78%\n"
     ]
    }
   ],
   "source": [
    "# Check the distribution of word count\n",
    "pre_df[['text_cleaned_wordcnt', 'summary_cleaned_wordcnt']].hist(figsize=(12, 5), bins=15)\n",
    "plt.show()\n",
    "\n",
    "# Check the percentage of summary with 0-15 words\n",
    "print(f'>>> summary with 0-15 words : {sum(pre_df.summary_cleaned_wordcnt < 15)/len(pre_df)*100:.2f}%')\n",
    "\n",
    "# Check the percentage of text with 0-100 words\n",
    "print(f'>>> text with 0-100 words   : {sum(pre_df.text_cleaned_wordcnt < 100)/len(pre_df)*100:.2f}%')"
   ]
  },
  {
   "cell_type": "code",
   "execution_count": null,
   "metadata": {
    "papermill": {
     "duration": 0.021707,
     "end_time": "2020-12-13T07:38:57.688961",
     "exception": false,
     "start_time": "2020-12-13T07:38:57.667254",
     "status": "completed"
    },
    "tags": []
   },
   "outputs": [],
   "source": []
  }
 ],
 "metadata": {
  "kernelspec": {
   "display_name": "Python 3",
   "language": "python",
   "name": "python3"
  },
  "language_info": {
   "codemirror_mode": {
    "name": "ipython",
    "version": 3
   },
   "file_extension": ".py",
   "mimetype": "text/x-python",
   "name": "python",
   "nbconvert_exporter": "python",
   "pygments_lexer": "ipython3",
   "version": "3.7.6"
  },
  "papermill": {
   "duration": 491.779351,
   "end_time": "2020-12-13T07:38:57.919271",
   "environment_variables": {},
   "exception": null,
   "input_path": "__notebook__.ipynb",
   "output_path": "__notebook__.ipynb",
   "parameters": {},
   "start_time": "2020-12-13T07:30:46.139920",
   "version": "2.1.0"
  }
 },
 "nbformat": 4,
 "nbformat_minor": 4
}
