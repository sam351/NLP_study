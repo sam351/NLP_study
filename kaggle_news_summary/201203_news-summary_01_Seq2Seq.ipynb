{
 "cells": [
  {
   "cell_type": "markdown",
   "metadata": {
    "papermill": {
     "duration": 0.004774,
     "end_time": "2020-12-08T14:20:27.388037",
     "exception": false,
     "start_time": "2020-12-08T14:20:27.383263",
     "status": "completed"
    },
    "tags": []
   },
   "source": [
    "## ref : www.kaggle.com/sandeepbhogaraju/text-summarization-with-seq2seq-model\n",
    "## ref : https://wikidocs.net/72820\n",
    "## ref : https://lovit.github.io/nlp/2019/04/30/textrank/\n"
   ]
  },
  {
   "cell_type": "code",
   "execution_count": 1,
   "metadata": {
    "_cell_guid": "b1076dfc-b9ad-4769-8c92-a6c4dae69d19",
    "_uuid": "8f2839f25d086af736a60e9eeb907d3b93b6e0e5",
    "execution": {
     "iopub.execute_input": "2020-12-08T14:20:27.406943Z",
     "iopub.status.busy": "2020-12-08T14:20:27.406163Z",
     "iopub.status.idle": "2020-12-08T14:20:27.424866Z",
     "shell.execute_reply": "2020-12-08T14:20:27.425533Z"
    },
    "papermill": {
     "duration": 0.033654,
     "end_time": "2020-12-08T14:20:27.425791",
     "exception": false,
     "start_time": "2020-12-08T14:20:27.392137",
     "status": "completed"
    },
    "tags": []
   },
   "outputs": [
    {
     "name": "stdout",
     "output_type": "stream",
     "text": [
      "/kaggle/input/news-summary/news_summary_more.csv\n",
      "/kaggle/input/news-summary/news_summary.csv\n"
     ]
    }
   ],
   "source": [
    "import numpy as np # linear algebra\n",
    "import pandas as pd # data processing, CSV file I/O (e.g. pd.read_csv)\n",
    "\n",
    "import re\n",
    "\n",
    "import os\n",
    "for dirname, _, filenames in os.walk('/kaggle/input'):\n",
    "    for filename in filenames:\n",
    "        print(os.path.join(dirname, filename))\n",
    "\n",
    "\n",
    "# Function for checking dataframe\n",
    "def show_table(df, sample_num=2):\n",
    "    print('>>> shape :', df.shape)\n",
    "    print('>>> number of NA :', df.isna().sum().sum())\n",
    "    \n",
    "    if df.shape[0] <= sample_num*2:\n",
    "        display(df)\n",
    "    else:\n",
    "        display(pd.concat([df.head(sample_num), df.tail(sample_num)]))"
   ]
  },
  {
   "cell_type": "code",
   "execution_count": null,
   "metadata": {
    "papermill": {
     "duration": 0.00392,
     "end_time": "2020-12-08T14:20:27.435306",
     "exception": false,
     "start_time": "2020-12-08T14:20:27.431386",
     "status": "completed"
    },
    "tags": []
   },
   "outputs": [],
   "source": []
  }
 ],
 "metadata": {
  "kernelspec": {
   "display_name": "Python 3",
   "language": "python",
   "name": "python3"
  },
  "language_info": {
   "codemirror_mode": {
    "name": "ipython",
    "version": 3
   },
   "file_extension": ".py",
   "mimetype": "text/x-python",
   "name": "python",
   "nbconvert_exporter": "python",
   "pygments_lexer": "ipython3",
   "version": "3.7.6"
  },
  "papermill": {
   "duration": 5.276327,
   "end_time": "2020-12-08T14:20:27.546736",
   "environment_variables": {},
   "exception": null,
   "input_path": "__notebook__.ipynb",
   "output_path": "__notebook__.ipynb",
   "parameters": {},
   "start_time": "2020-12-08T14:20:22.270409",
   "version": "2.1.0"
  }
 },
 "nbformat": 4,
 "nbformat_minor": 4
}
