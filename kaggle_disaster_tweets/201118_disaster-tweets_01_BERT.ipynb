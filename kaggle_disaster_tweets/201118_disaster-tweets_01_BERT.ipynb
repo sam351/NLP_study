{
 "cells": [
  {
   "cell_type": "markdown",
   "metadata": {},
   "source": [
    "## env : Kaggle Notebook\n",
    "## ref : https://www.kaggle.com/gunesevitan/nlp-with-disaster-tweets-eda-cleaning-and-bert"
   ]
  },
  {
   "cell_type": "code",
   "execution_count": 1,
   "metadata": {
    "_kg_hide-input": true
   },
   "outputs": [
    {
     "name": "stdout",
     "output_type": "stream",
     "text": [
      "wget: /opt/conda/lib/libuuid.so.1: no version information available (required by wget)\r\n"
     ]
    }
   ],
   "source": [
    "# Error - wget: /opt/conda/lib/libuuid.so.1: no version information available (required by wget)\n",
    "!wget --quiet https://raw.githubusercontent.com/tensorflow/models/master/official/nlp/bert/tokenization.py"
   ]
  },
  {
   "cell_type": "code",
   "execution_count": 2,
   "metadata": {
    "_cell_guid": "b1076dfc-b9ad-4769-8c92-a6c4dae69d19",
    "_kg_hide-input": true,
    "_uuid": "8f2839f25d086af736a60e9eeb907d3b93b6e0e5"
   },
   "outputs": [
    {
     "name": "stdout",
     "output_type": "stream",
     "text": [
      "original - np : 1.17.4  |  pd : 0.25.3  |  mpl : 3.0.3  |  sklearn : 0.21.3  |  tf : 2.1.0-rc0  |  hub : 0.7.0  |  keras : 2.2.4-tf\n",
      "present  - np : 1.17.4  |  pd : 0.25.3  |  mpl : 3.0.3  |  sklearn : 0.21.3  |  tf : 2.1.0-rc0  |  hub : 0.7.0  |  keras : 2.2.4-tf\n"
     ]
    }
   ],
   "source": [
    "import gc\n",
    "import re\n",
    "import string\n",
    "import operator\n",
    "from collections import defaultdict\n",
    "\n",
    "import numpy as np\n",
    "import pandas as pd\n",
    "# pd.set_option('display.max_rows', 500)\n",
    "# pd.set_option('display.max_columns', 500)\n",
    "# pd.set_option('display.width', 1000)\n",
    "\n",
    "import matplotlib as mpl\n",
    "import matplotlib.pyplot as plt\n",
    "import seaborn as sns\n",
    "\n",
    "import tokenization\n",
    "from wordcloud import STOPWORDS\n",
    "\n",
    "import sklearn\n",
    "from sklearn.model_selection import StratifiedKFold, StratifiedShuffleSplit\n",
    "from sklearn.metrics import precision_score, recall_score, f1_score\n",
    "\n",
    "import tensorflow as tf\n",
    "import tensorflow_hub as hub\n",
    "from tensorflow import keras\n",
    "from tensorflow.keras.optimizers import SGD, Adam\n",
    "from tensorflow.keras.layers import Dense, Input, Dropout, GlobalAveragePooling1D\n",
    "from tensorflow.keras.models import Model, Sequential\n",
    "from tensorflow.keras.callbacks import ModelCheckpoint, EarlyStopping, Callback\n",
    "\n",
    "SEED = 1337\n",
    "\n",
    "print(f'original - np : 1.17.4  |  pd : 0.25.3  |  mpl : 3.0.3  |  sklearn : 0.21.3  |  tf : 2.1.0-rc0  |  hub : 0.7.0  |  keras : 2.2.4-tf')\n",
    "print(f'present  - np : {np.__version__}  |  pd : {pd.__version__}  |  mpl : {mpl.__version__}  |  sklearn : {sklearn.__version__}  |  tf : {tf.__version__}  |  hub : {hub.__version__}  |  keras : {keras.__version__}')"
   ]
  },
  {
   "cell_type": "code",
   "execution_count": 3,
   "metadata": {
    "_cell_guid": "79c7e3d0-c299-4dcb-8224-4455121ee9b0",
    "_uuid": "d629ff2d2480ee46fbb7e2d37f6b5fab8052498a"
   },
   "outputs": [
    {
     "name": "stdout",
     "output_type": "stream",
     "text": [
      "Training Set Shape = (7613, 5)\n",
      "Training Set Memory Usage = 0.20 MB\n",
      "Test Set Shape = (3263, 4)\n",
      "Test Set Memory Usage = 0.08 MB\n"
     ]
    }
   ],
   "source": [
    "df_train = pd.read_csv('../input/nlp-getting-started/train.csv', dtype={'id': np.int16, 'target': np.int8})\n",
    "df_test = pd.read_csv('../input/nlp-getting-started/test.csv', dtype={'id': np.int16})\n",
    "\n",
    "print('Training Set Shape = {}'.format(df_train.shape))\n",
    "print('Training Set Memory Usage = {:.2f} MB'.format(df_train.memory_usage().sum() / 1024**2))\n",
    "print('Test Set Shape = {}'.format(df_test.shape))\n",
    "print('Test Set Memory Usage = {:.2f} MB'.format(df_test.memory_usage().sum() / 1024**2))"
   ]
  },
  {
   "cell_type": "markdown",
   "metadata": {},
   "source": [
    "## **1. Keyword and Location**"
   ]
  },
  {
   "cell_type": "markdown",
   "metadata": {},
   "source": [
    "### **1.1 Missing Values**\n",
    "Both training and test set have same ratio of missing values in `keyword` and `location`.\n",
    "* **0.8%** of `keyword` is missing in both training and test set\n",
    "* **33%** of `location` is missing in both training and test set\n",
    "\n",
    "Since missing value ratios between training and test set are too close, **they are most probably taken from the same sample**. Missing values in those features are filled with `no_keyword` and `no_location` respectively."
   ]
  },
  {
   "cell_type": "code",
   "execution_count": 4,
   "metadata": {},
   "outputs": [
    {
     "data": {
      "image/png": "[encoded data removed]",
      "text/plain": [
       "<Figure size 1700x400 with 2 Axes>"
      ]
     },
     "metadata": {
      "needs_background": "light"
     },
     "output_type": "display_data"
    },
    {
     "name": "stdout",
     "output_type": "stream",
     "text": [
      ">>> Missing Value Change (train, test) : (2594, 1131) -> (0, 0)\n"
     ]
    }
   ],
   "source": [
    "missing_cols = ['keyword', 'location']\n",
    "\n",
    "fig, axes = plt.subplots(1, 2, figsize=(17, 4), dpi=100)\n",
    "\n",
    "sns.barplot(x=df_train[['keyword', 'location']].isna().sum().index, y=df_train[['keyword', 'location']].isna().sum(), ax=axes[0])\n",
    "sns.barplot(x=df_test[['keyword', 'location']].isna().sum().index,  y=df_test[['keyword', 'location']].isna().sum(),  ax=axes[1])\n",
    "\n",
    "axes[0].set_ylabel('Missing Value Count', size=15, labelpad=20)\n",
    "axes[0].tick_params(axis='both', labelsize=15)\n",
    "axes[0].set_title('Training Set', size=13)\n",
    "axes[1].tick_params(axis='both', labelsize=15)\n",
    "axes[1].set_title('Test Set', size=13)\n",
    "\n",
    "plt.show()\n",
    "\n",
    "print(f'>>> Missing Value Change (train, test) : ({df_train[missing_cols].isna().sum().sum()}, {df_test[missing_cols].isna().sum().sum()})', end=' -> ')\n",
    "for df in [df_train, df_test]:\n",
    "    for col in missing_cols:\n",
    "        df[col] = df[col].fillna(f'no_{col}')\n",
    "print(f'({df_train[missing_cols].isna().sum().sum()}, {df_test[missing_cols].isna().sum().sum()})')"
   ]
  }
 ],
 "metadata": {
  "kernelspec": {
   "display_name": "Python 3",
   "language": "python",
   "name": "python3"
  },
  "language_info": {
   "codemirror_mode": {
    "name": "ipython",
    "version": 3
   },
   "file_extension": ".py",
   "mimetype": "text/x-python",
   "name": "python",
   "nbconvert_exporter": "python",
   "pygments_lexer": "ipython3",
   "version": "3.6.6"
  }
 },
 "nbformat": 4,
 "nbformat_minor": 4
}
