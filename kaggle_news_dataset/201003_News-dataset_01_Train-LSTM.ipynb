{
 "cells": [
  {
   "cell_type": "markdown",
   "metadata": {
    "papermill": {
     "duration": 0.013936,
     "end_time": "2020-10-03T08:43:04.049108",
     "exception": false,
     "start_time": "2020-10-03T08:43:04.035172",
     "status": "completed"
    },
    "tags": []
   },
   "source": [
    "## ref : https://www.kaggle.com/ngyptr/multi-class-classification-with-lstm"
   ]
  },
  {
   "cell_type": "code",
   "execution_count": 1,
   "metadata": {
    "_cell_guid": "b1076dfc-b9ad-4769-8c92-a6c4dae69d19",
    "_uuid": "8f2839f25d086af736a60e9eeb907d3b93b6e0e5",
    "execution": {
     "iopub.execute_input": "2020-10-03T08:43:04.088301Z",
     "iopub.status.busy": "2020-10-03T08:43:04.087486Z",
     "iopub.status.idle": "2020-10-03T08:43:12.927333Z",
     "shell.execute_reply": "2020-10-03T08:43:12.926508Z"
    },
    "papermill": {
     "duration": 8.865251,
     "end_time": "2020-10-03T08:43:12.927487",
     "exception": false,
     "start_time": "2020-10-03T08:43:04.062236",
     "status": "completed"
    },
    "tags": []
   },
   "outputs": [
    {
     "name": "stdout",
     "output_type": "stream",
     "text": [
      "/kaggle/input/news-aggregator-dataset/uci-news-aggregator.csv\n"
     ]
    }
   ],
   "source": [
    "import numpy as np # linear algebra\n",
    "import pandas as pd # data processing, CSV file I/O (e.g. pd.read_csv)\n",
    "\n",
    "import matplotlib.pyplot as plt\n",
    "import seaborn as sns\n",
    "\n",
    "from keras.layers import Dense, Embedding, LSTM, SpatialDropout1D\n",
    "from keras.models import Sequential\n",
    "from keras.preprocessing.text import Tokenizer\n",
    "from keras.preprocessing.sequence import pad_sequences\n",
    "from keras.utils.np_utils import to_categorical\n",
    "from keras.callbacks import EarlyStopping\n",
    "\n",
    "from sklearn.preprocessing import LabelEncoder\n",
    "from sklearn.feature_extraction.text import CountVectorizer\n",
    "from sklearn.model_selection import train_test_split\n",
    "\n",
    "import os\n",
    "for dirname, _, filenames in os.walk('/kaggle/input'):\n",
    "    for filename in filenames:\n",
    "        print(os.path.join(dirname, filename))\n",
    "\n",
    "\n",
    "def show_table(df):\n",
    "    print('>>> shape :', df.shape)\n",
    "    print('>>> number of NA :', df.isna().sum().sum())\n",
    "    display(df.head(3))\n",
    "    display(df.tail(3))"
   ]
  },
  {
   "cell_type": "code",
   "execution_count": 2,
   "metadata": {
    "_cell_guid": "79c7e3d0-c299-4dcb-8224-4455121ee9b0",
    "_uuid": "d629ff2d2480ee46fbb7e2d37f6b5fab8052498a",
    "execution": {
     "iopub.execute_input": "2020-10-03T08:43:12.966598Z",
     "iopub.status.busy": "2020-10-03T08:43:12.965771Z",
     "iopub.status.idle": "2020-10-03T08:43:14.281995Z",
     "shell.execute_reply": "2020-10-03T08:43:14.281169Z"
    },
    "papermill": {
     "duration": 1.340977,
     "end_time": "2020-10-03T08:43:14.282128",
     "exception": false,
     "start_time": "2020-10-03T08:43:12.941151",
     "status": "completed"
    },
    "tags": []
   },
   "outputs": [
    {
     "name": "stdout",
     "output_type": "stream",
     "text": [
      ">>> shape : (422419, 2)\n",
      ">>> number of NA : 0\n"
     ]
    },
    {
     "data": {
      "text/html": [
       "<div>\n",
       "<style scoped>\n",
       "    .dataframe tbody tr th:only-of-type {\n",
       "        vertical-align: middle;\n",
       "    }\n",
       "\n",
       "    .dataframe tbody tr th {\n",
       "        vertical-align: top;\n",
       "    }\n",
       "\n",
       "    .dataframe thead th {\n",
       "        text-align: right;\n",
       "    }\n",
       "</style>\n",
       "<table border=\"1\" class=\"dataframe\">\n",
       "  <thead>\n",
       "    <tr style=\"text-align: right;\">\n",
       "      <th></th>\n",
       "      <th>TITLE</th>\n",
       "      <th>CATEGORY</th>\n",
       "    </tr>\n",
       "  </thead>\n",
       "  <tbody>\n",
       "    <tr>\n",
       "      <th>0</th>\n",
       "      <td>Fed official says weak data caused by weather,...</td>\n",
       "      <td>b</td>\n",
       "    </tr>\n",
       "    <tr>\n",
       "      <th>1</th>\n",
       "      <td>Fed's Charles Plosser sees high bar for change...</td>\n",
       "      <td>b</td>\n",
       "    </tr>\n",
       "    <tr>\n",
       "      <th>2</th>\n",
       "      <td>US open: Stocks fall after Fed official hints ...</td>\n",
       "      <td>b</td>\n",
       "    </tr>\n",
       "  </tbody>\n",
       "</table>\n",
       "</div>"
      ],
      "text/plain": [
       "                                               TITLE CATEGORY\n",
       "0  Fed official says weak data caused by weather,...        b\n",
       "1  Fed's Charles Plosser sees high bar for change...        b\n",
       "2  US open: Stocks fall after Fed official hints ...        b"
      ]
     },
     "metadata": {},
     "output_type": "display_data"
    },
    {
     "data": {
      "text/html": [
       "<div>\n",
       "<style scoped>\n",
       "    .dataframe tbody tr th:only-of-type {\n",
       "        vertical-align: middle;\n",
       "    }\n",
       "\n",
       "    .dataframe tbody tr th {\n",
       "        vertical-align: top;\n",
       "    }\n",
       "\n",
       "    .dataframe thead th {\n",
       "        text-align: right;\n",
       "    }\n",
       "</style>\n",
       "<table border=\"1\" class=\"dataframe\">\n",
       "  <thead>\n",
       "    <tr style=\"text-align: right;\">\n",
       "      <th></th>\n",
       "      <th>TITLE</th>\n",
       "      <th>CATEGORY</th>\n",
       "    </tr>\n",
       "  </thead>\n",
       "  <tbody>\n",
       "    <tr>\n",
       "      <th>422416</th>\n",
       "      <td>Child who swallowed battery to have reconstruc...</td>\n",
       "      <td>m</td>\n",
       "    </tr>\n",
       "    <tr>\n",
       "      <th>422417</th>\n",
       "      <td>Phoenix boy undergoes surgery to repair throat...</td>\n",
       "      <td>m</td>\n",
       "    </tr>\n",
       "    <tr>\n",
       "      <th>422418</th>\n",
       "      <td>Phoenix boy undergoes surgery to repair throat...</td>\n",
       "      <td>m</td>\n",
       "    </tr>\n",
       "  </tbody>\n",
       "</table>\n",
       "</div>"
      ],
      "text/plain": [
       "                                                    TITLE CATEGORY\n",
       "422416  Child who swallowed battery to have reconstruc...        m\n",
       "422417  Phoenix boy undergoes surgery to repair throat...        m\n",
       "422418  Phoenix boy undergoes surgery to repair throat...        m"
      ]
     },
     "metadata": {},
     "output_type": "display_data"
    }
   ],
   "source": [
    "data = pd.read_csv('../input/news-aggregator-dataset/uci-news-aggregator.csv', usecols=['TITLE', 'CATEGORY'])\n",
    "show_table(data)"
   ]
  },
  {
   "cell_type": "markdown",
   "metadata": {
    "papermill": {
     "duration": 0.014526,
     "end_time": "2020-10-03T08:43:14.311809",
     "exception": false,
     "start_time": "2020-10-03T08:43:14.297283",
     "status": "completed"
    },
    "tags": []
   },
   "source": [
    "## EDA\n",
    "\n",
    "- CATEGORY : the category of the news item; one of:\n",
    "  - b : business\n",
    "  - t : science and technology\n",
    "  - e : entertainment\n",
    "  - m : health"
   ]
  },
  {
   "cell_type": "code",
   "execution_count": 3,
   "metadata": {
    "execution": {
     "iopub.execute_input": "2020-10-03T08:43:14.457959Z",
     "iopub.status.busy": "2020-10-03T08:43:14.457072Z",
     "iopub.status.idle": "2020-10-03T08:43:14.708502Z",
     "shell.execute_reply": "2020-10-03T08:43:14.707675Z"
    },
    "papermill": {
     "duration": 0.378311,
     "end_time": "2020-10-03T08:43:14.708651",
     "exception": false,
     "start_time": "2020-10-03T08:43:14.330340",
     "status": "completed"
    },
    "tags": []
   },
   "outputs": [
    {
     "data": {
      "text/html": [
       "<div>\n",
       "<style scoped>\n",
       "    .dataframe tbody tr th:only-of-type {\n",
       "        vertical-align: middle;\n",
       "    }\n",
       "\n",
       "    .dataframe tbody tr th {\n",
       "        vertical-align: top;\n",
       "    }\n",
       "\n",
       "    .dataframe thead th {\n",
       "        text-align: right;\n",
       "    }\n",
       "</style>\n",
       "<table border=\"1\" class=\"dataframe\">\n",
       "  <thead>\n",
       "    <tr style=\"text-align: right;\">\n",
       "      <th></th>\n",
       "      <th>e</th>\n",
       "      <th>b</th>\n",
       "      <th>t</th>\n",
       "      <th>m</th>\n",
       "    </tr>\n",
       "  </thead>\n",
       "  <tbody>\n",
       "    <tr>\n",
       "      <th>CATEGORY</th>\n",
       "      <td>152469</td>\n",
       "      <td>115967</td>\n",
       "      <td>108344</td>\n",
       "      <td>45639</td>\n",
       "    </tr>\n",
       "  </tbody>\n",
       "</table>\n",
       "</div>"
      ],
      "text/plain": [
       "               e       b       t      m\n",
       "CATEGORY  152469  115967  108344  45639"
      ]
     },
     "metadata": {},
     "output_type": "display_data"
    },
    {
     "data": {
      "image/png": "[encoded data removed]",
      "text/plain": [
       "<Figure size 504x216 with 1 Axes>"
      ]
     },
     "metadata": {
      "needs_background": "light"
     },
     "output_type": "display_data"
    }
   ],
   "source": [
    "# Distribution of Category\n",
    "count_ser = data.CATEGORY.value_counts()\n",
    "\n",
    "display(count_ser.to_frame().T)\n",
    "\n",
    "plt.figure(figsize=(7, 3))\n",
    "plt.bar(count_ser.index, count_ser, color='tab:blue')\n",
    "plt.xticks(size=15)\n",
    "for idx, (cat, count) in enumerate(zip(count_ser.index, count_ser)):\n",
    "    plt.text(idx-0.3, 15000, s=f'{count/1000:^6.1f}k', size=13, color='k', weight='bold')\n",
    "plt.show()"
   ]
  },
  {
   "cell_type": "code",
   "execution_count": 4,
   "metadata": {
    "execution": {
     "iopub.execute_input": "2020-10-03T08:43:14.755314Z",
     "iopub.status.busy": "2020-10-03T08:43:14.754486Z",
     "iopub.status.idle": "2020-10-03T08:43:17.833781Z",
     "shell.execute_reply": "2020-10-03T08:43:17.834411Z"
    },
    "papermill": {
     "duration": 3.108975,
     "end_time": "2020-10-03T08:43:17.834645",
     "exception": false,
     "start_time": "2020-10-03T08:43:14.725670",
     "status": "completed"
    },
    "tags": []
   },
   "outputs": [
    {
     "data": {
      "image/png": "[encoded data removed]",
      "text/plain": [
       "<Figure size 1440x288 with 3 Axes>"
      ]
     },
     "metadata": {
      "needs_background": "light"
     },
     "output_type": "display_data"
    }
   ],
   "source": [
    "# Distribution of text length\n",
    "data['TITLE_len'] = data.TITLE.apply(len)\n",
    "\n",
    "fig, ax = plt.subplots(1, 3, figsize=(20, 4))\n",
    "ax[0].hist(data.TITLE_len, bins=1000)\n",
    "ax[0].set_xlim(0, 300)\n",
    "ax[1].boxplot(data.TITLE_len, vert=False)\n",
    "ax[2].boxplot(data.TITLE_len, vert=False)\n",
    "ax[2].set_xlim(0, 100)\n",
    "plt.suptitle('Distribution of Text Length', size=20)\n",
    "plt.show()"
   ]
  },
  {
   "cell_type": "code",
   "execution_count": 5,
   "metadata": {
    "execution": {
     "iopub.execute_input": "2020-10-03T08:43:17.900008Z",
     "iopub.status.busy": "2020-10-03T08:43:17.884273Z",
     "iopub.status.idle": "2020-10-03T08:43:19.567688Z",
     "shell.execute_reply": "2020-10-03T08:43:19.566943Z"
    },
    "papermill": {
     "duration": 1.713098,
     "end_time": "2020-10-03T08:43:19.567855",
     "exception": false,
     "start_time": "2020-10-03T08:43:17.854757",
     "status": "completed"
    },
    "tags": []
   },
   "outputs": [
    {
     "data": {
      "image/png": "[encoded data removed]",
      "text/plain": [
       "<Figure size 1440x288 with 4 Axes>"
      ]
     },
     "metadata": {
      "needs_background": "light"
     },
     "output_type": "display_data"
    },
    {
     "data": {
      "image/png": "[encoded data removed]",
      "text/plain": [
       "<Figure size 720x288 with 2 Axes>"
      ]
     },
     "metadata": {
      "needs_background": "light"
     },
     "output_type": "display_data"
    }
   ],
   "source": [
    "# Distribution of text length by Category\n",
    "fig, ax = plt.subplots(1, 4, figsize=(20, 4))\n",
    "for idx, cat in enumerate(count_ser.index):\n",
    "    tmp_df = data[data.CATEGORY==cat]\n",
    "    \n",
    "    ax[idx].boxplot(data[data.CATEGORY==cat].TITLE_len)\n",
    "    ax[idx].set_title(f'Category : {cat}', size=15)\n",
    "    \n",
    "    max_val, min_val = tmp_df.TITLE_len.max(), tmp_df.TITLE_len.min()\n",
    "    ax[idx].text(1.2, max_val*0.2, s=f'Max : {max_val}', size=11)\n",
    "    ax[idx].text(1.2, max_val*0.1, s=f'Min : {min_val}', size=11)\n",
    "\n",
    "\n",
    "fig, ax = plt.subplots(1, 2, figsize=(10, 4))\n",
    "for idx, cat in enumerate(['e', 't']):\n",
    "    tmp_df = data[(data.CATEGORY==cat) & (data.TITLE_len<100)]\n",
    "    \n",
    "    ax[idx].boxplot(tmp_df.TITLE_len)\n",
    "    ax[idx].set_title(f'Category : {cat}   (btw 0, 100)', size=15)\n",
    "    \n",
    "    max_val, min_val = tmp_df.TITLE_len.max(), tmp_df.TITLE_len.min()\n",
    "    ax[idx].text(1.2, max_val*0.2, s=f'Max : {max_val}', size=11)\n",
    "    ax[idx].text(1.2, max_val*0.1, s=f'Min : {min_val}', size=11)"
   ]
  },
  {
   "cell_type": "code",
   "execution_count": 6,
   "metadata": {
    "execution": {
     "iopub.execute_input": "2020-10-03T08:43:19.619247Z",
     "iopub.status.busy": "2020-10-03T08:43:19.618354Z",
     "iopub.status.idle": "2020-10-03T08:43:19.637992Z",
     "shell.execute_reply": "2020-10-03T08:43:19.637108Z"
    },
    "papermill": {
     "duration": 0.048013,
     "end_time": "2020-10-03T08:43:19.638138",
     "exception": false,
     "start_time": "2020-10-03T08:43:19.590125",
     "status": "completed"
    },
    "tags": []
   },
   "outputs": [
    {
     "data": {
      "text/html": [
       "<div>\n",
       "<style scoped>\n",
       "    .dataframe tbody tr th:only-of-type {\n",
       "        vertical-align: middle;\n",
       "    }\n",
       "\n",
       "    .dataframe tbody tr th {\n",
       "        vertical-align: top;\n",
       "    }\n",
       "\n",
       "    .dataframe thead th {\n",
       "        text-align: right;\n",
       "    }\n",
       "</style>\n",
       "<table border=\"1\" class=\"dataframe\">\n",
       "  <thead>\n",
       "    <tr style=\"text-align: right;\">\n",
       "      <th></th>\n",
       "      <th>TITLE</th>\n",
       "      <th>CATEGORY</th>\n",
       "      <th>TITLE_len</th>\n",
       "      <th>TITLE_new</th>\n",
       "      <th>TITLE_len_new</th>\n",
       "    </tr>\n",
       "  </thead>\n",
       "  <tbody>\n",
       "    <tr>\n",
       "      <th>0</th>\n",
       "      <td>I don't know why I'm a sex symbol' says smould...</td>\n",
       "      <td>e</td>\n",
       "      <td>824</td>\n",
       "      <td>I don't know why I'm a sex symbol' says smould...</td>\n",
       "      <td>78</td>\n",
       "    </tr>\n",
       "    <tr>\n",
       "      <th>1</th>\n",
       "      <td>The Best Reactions To The Supposed Video of So...</td>\n",
       "      <td>e</td>\n",
       "      <td>2779</td>\n",
       "      <td>The Best Reactions To The Supposed Video of So...</td>\n",
       "      <td>72</td>\n",
       "    </tr>\n",
       "    <tr>\n",
       "      <th>2</th>\n",
       "      <td>The Fault In Our Stars' to release in India on...</td>\n",
       "      <td>e</td>\n",
       "      <td>3528</td>\n",
       "      <td>The Fault In Our Stars' to release in India on...</td>\n",
       "      <td>53</td>\n",
       "    </tr>\n",
       "    <tr>\n",
       "      <th>3</th>\n",
       "      <td>Hunger Games' top winner at MTV Movie Awards\\t...</td>\n",
       "      <td>e</td>\n",
       "      <td>9590</td>\n",
       "      <td>Hunger Games' top winner at MTV Movie Awards</td>\n",
       "      <td>44</td>\n",
       "    </tr>\n",
       "    <tr>\n",
       "      <th>4</th>\n",
       "      <td>More Japanese Xbox One Games In Development, A...</td>\n",
       "      <td>t</td>\n",
       "      <td>14260</td>\n",
       "      <td>More Japanese Xbox One Games In Development, A...</td>\n",
       "      <td>74</td>\n",
       "    </tr>\n",
       "    <tr>\n",
       "      <th>5</th>\n",
       "      <td>Love &amp; Hip-Hop' Star Benzino Shot By Nephew En...</td>\n",
       "      <td>e</td>\n",
       "      <td>18758</td>\n",
       "      <td>Love &amp; Hip-Hop' Star Benzino Shot By Nephew En...</td>\n",
       "      <td>72</td>\n",
       "    </tr>\n",
       "    <tr>\n",
       "      <th>6</th>\n",
       "      <td>A few years ago, scientists calculated that be...</td>\n",
       "      <td>t</td>\n",
       "      <td>24945</td>\n",
       "      <td>A few years ago, scientists calculated that be...</td>\n",
       "      <td>86</td>\n",
       "    </tr>\n",
       "    <tr>\n",
       "      <th>7</th>\n",
       "      <td>I never thought I'd be in love” says Angelina ...</td>\n",
       "      <td>e</td>\n",
       "      <td>25422</td>\n",
       "      <td>I never thought I'd be in love” says Angelina ...</td>\n",
       "      <td>51</td>\n",
       "    </tr>\n",
       "    <tr>\n",
       "      <th>8</th>\n",
       "      <td>Peaches has died. We are beyond pain.\\thttp://...</td>\n",
       "      <td>e</td>\n",
       "      <td>28426</td>\n",
       "      <td>Peaches has died. We are beyond pain.</td>\n",
       "      <td>37</td>\n",
       "    </tr>\n",
       "  </tbody>\n",
       "</table>\n",
       "</div>"
      ],
      "text/plain": [
       "                                               TITLE CATEGORY  TITLE_len  \\\n",
       "0  I don't know why I'm a sex symbol' says smould...        e        824   \n",
       "1  The Best Reactions To The Supposed Video of So...        e       2779   \n",
       "2  The Fault In Our Stars' to release in India on...        e       3528   \n",
       "3  Hunger Games' top winner at MTV Movie Awards\\t...        e       9590   \n",
       "4  More Japanese Xbox One Games In Development, A...        t      14260   \n",
       "5  Love & Hip-Hop' Star Benzino Shot By Nephew En...        e      18758   \n",
       "6  A few years ago, scientists calculated that be...        t      24945   \n",
       "7  I never thought I'd be in love” says Angelina ...        e      25422   \n",
       "8  Peaches has died. We are beyond pain.\\thttp://...        e      28426   \n",
       "\n",
       "                                           TITLE_new  TITLE_len_new  \n",
       "0  I don't know why I'm a sex symbol' says smould...             78  \n",
       "1  The Best Reactions To The Supposed Video of So...             72  \n",
       "2  The Fault In Our Stars' to release in India on...             53  \n",
       "3       Hunger Games' top winner at MTV Movie Awards             44  \n",
       "4  More Japanese Xbox One Games In Development, A...             74  \n",
       "5  Love & Hip-Hop' Star Benzino Shot By Nephew En...             72  \n",
       "6  A few years ago, scientists calculated that be...             86  \n",
       "7  I never thought I'd be in love” says Angelina ...             51  \n",
       "8              Peaches has died. We are beyond pain.             37  "
      ]
     },
     "metadata": {},
     "output_type": "display_data"
    }
   ],
   "source": [
    "# Check outliers - too long TITLE_len\n",
    "outlier_df = data[data.TITLE_len>100].sort_values('TITLE_len').reset_index(drop=True)\n",
    "\n",
    "## remove URL from title\n",
    "outlier_df['TITLE_new'] = outlier_df['TITLE'].apply(lambda x : x.split('\\thttp')[0])\n",
    "outlier_df['TITLE_len_new'] = outlier_df['TITLE_new'].apply(len)\n",
    "display(outlier_df)"
   ]
  },
  {
   "cell_type": "code",
   "execution_count": 7,
   "metadata": {
    "execution": {
     "iopub.execute_input": "2020-10-03T08:43:19.736883Z",
     "iopub.status.busy": "2020-10-03T08:43:19.736043Z",
     "iopub.status.idle": "2020-10-03T08:43:20.014897Z",
     "shell.execute_reply": "2020-10-03T08:43:20.014165Z"
    },
    "papermill": {
     "duration": 0.355028,
     "end_time": "2020-10-03T08:43:20.015052",
     "exception": false,
     "start_time": "2020-10-03T08:43:19.660024",
     "status": "completed"
    },
    "tags": []
   },
   "outputs": [
    {
     "data": {
      "text/html": [
       "<div>\n",
       "<style scoped>\n",
       "    .dataframe tbody tr th:only-of-type {\n",
       "        vertical-align: middle;\n",
       "    }\n",
       "\n",
       "    .dataframe tbody tr th {\n",
       "        vertical-align: top;\n",
       "    }\n",
       "\n",
       "    .dataframe thead th {\n",
       "        text-align: right;\n",
       "    }\n",
       "</style>\n",
       "<table border=\"1\" class=\"dataframe\">\n",
       "  <thead>\n",
       "    <tr style=\"text-align: right;\">\n",
       "      <th></th>\n",
       "      <th>TITLE</th>\n",
       "      <th>CATEGORY</th>\n",
       "      <th>TITLE_len</th>\n",
       "      <th>TITLE_new</th>\n",
       "      <th>TITLE_len_new</th>\n",
       "    </tr>\n",
       "  </thead>\n",
       "  <tbody>\n",
       "    <tr>\n",
       "      <th>0</th>\n",
       "      <td>http://pediatrics.about.com/b/2014/03/27/respo...</td>\n",
       "      <td>m</td>\n",
       "      <td>83</td>\n",
       "      <td>pediatrics-about-responses-to-the-latest-cdc-r...</td>\n",
       "      <td>59</td>\n",
       "    </tr>\n",
       "    <tr>\n",
       "      <th>1</th>\n",
       "      <td>http://surgery.about.com/b/2014/03/30/too-sick...</td>\n",
       "      <td>m</td>\n",
       "      <td>85</td>\n",
       "      <td>surgery-about-too-sick-for-aortic-valve-stenos...</td>\n",
       "      <td>61</td>\n",
       "    </tr>\n",
       "    <tr>\n",
       "      <th>2</th>\n",
       "      <td>http://mutualfunds.about.com/b/2014/03/31/the-...</td>\n",
       "      <td>b</td>\n",
       "      <td>80</td>\n",
       "      <td>mutualfunds-about-the-stock-market-rigged-what...</td>\n",
       "      <td>56</td>\n",
       "    </tr>\n",
       "    <tr>\n",
       "      <th>3</th>\n",
       "      <td>http://movies.about.com/b/2014/04/11/review-ro...</td>\n",
       "      <td>e</td>\n",
       "      <td>82</td>\n",
       "      <td>movies-about-review-round-up-for-the-weekend-o...</td>\n",
       "      <td>58</td>\n",
       "    </tr>\n",
       "    <tr>\n",
       "      <th>4</th>\n",
       "      <td>http://mustangs.about.com/b/2014/04/15/its-off...</td>\n",
       "      <td>t</td>\n",
       "      <td>87</td>\n",
       "      <td>mustangs-about-its-official-ford-to-offer-50th...</td>\n",
       "      <td>63</td>\n",
       "    </tr>\n",
       "    <tr>\n",
       "      <th>5</th>\n",
       "      <td>http://ent.about.com/b/2014/05/20/study-finds-...</td>\n",
       "      <td>m</td>\n",
       "      <td>81</td>\n",
       "      <td>ent-about-study-finds-increased-incidence-of-h...</td>\n",
       "      <td>57</td>\n",
       "    </tr>\n",
       "    <tr>\n",
       "      <th>6</th>\n",
       "      <td>http://www.womenhiv.org</td>\n",
       "      <td>m</td>\n",
       "      <td>23</td>\n",
       "      <td>www-womenhiv-www.womenhiv.org</td>\n",
       "      <td>29</td>\n",
       "    </tr>\n",
       "    <tr>\n",
       "      <th>7</th>\n",
       "      <td>http://brooklyn.about.com/od/July-4-Independen...</td>\n",
       "      <td>e</td>\n",
       "      <td>80</td>\n",
       "      <td>brooklyn-about-Can-You-Watch-Macys  ...</td>\n",
       "      <td>39</td>\n",
       "    </tr>\n",
       "    <tr>\n",
       "      <th>8</th>\n",
       "      <td>http://movies.about.com/od/Blog/tp/Comic-Con-2...</td>\n",
       "      <td>e</td>\n",
       "      <td>77</td>\n",
       "      <td>movies-about-Comic-Con-2014-The-Five-Biggest-M...</td>\n",
       "      <td>55</td>\n",
       "    </tr>\n",
       "  </tbody>\n",
       "</table>\n",
       "</div>"
      ],
      "text/plain": [
       "                                               TITLE CATEGORY  TITLE_len  \\\n",
       "0  http://pediatrics.about.com/b/2014/03/27/respo...        m         83   \n",
       "1  http://surgery.about.com/b/2014/03/30/too-sick...        m         85   \n",
       "2  http://mutualfunds.about.com/b/2014/03/31/the-...        b         80   \n",
       "3  http://movies.about.com/b/2014/04/11/review-ro...        e         82   \n",
       "4  http://mustangs.about.com/b/2014/04/15/its-off...        t         87   \n",
       "5  http://ent.about.com/b/2014/05/20/study-finds-...        m         81   \n",
       "6                            http://www.womenhiv.org        m         23   \n",
       "7  http://brooklyn.about.com/od/July-4-Independen...        e         80   \n",
       "8  http://movies.about.com/od/Blog/tp/Comic-Con-2...        e         77   \n",
       "\n",
       "                                           TITLE_new  TITLE_len_new  \n",
       "0  pediatrics-about-responses-to-the-latest-cdc-r...             59  \n",
       "1  surgery-about-too-sick-for-aortic-valve-stenos...             61  \n",
       "2  mutualfunds-about-the-stock-market-rigged-what...             56  \n",
       "3  movies-about-review-round-up-for-the-weekend-o...             58  \n",
       "4  mustangs-about-its-official-ford-to-offer-50th...             63  \n",
       "5  ent-about-study-finds-increased-incidence-of-h...             57  \n",
       "6                      www-womenhiv-www.womenhiv.org             29  \n",
       "7            brooklyn-about-Can-You-Watch-Macys  ...             39  \n",
       "8  movies-about-Comic-Con-2014-The-Five-Biggest-M...             55  "
      ]
     },
     "metadata": {},
     "output_type": "display_data"
    }
   ],
   "source": [
    "# Check outliers - TITLE with only URL\n",
    "outlier_df = data[data.TITLE.str.startswith('http://')].reset_index(drop=True)\n",
    "\n",
    "## extract content-related keywords from URL\n",
    "outlier_df['TITLE_new'] = outlier_df['TITLE'].apply(lambda x : x.split('//')[-1].split('.')[0] + '-' + x.split('//')[-1].split('.')[1] + '-'  + x.split('/')[-1])\n",
    "outlier_df['TITLE_len_new'] = outlier_df['TITLE_new'].apply(len)\n",
    "display(outlier_df)"
   ]
  },
  {
   "cell_type": "markdown",
   "metadata": {
    "papermill": {
     "duration": 0.024662,
     "end_time": "2020-10-03T08:43:20.065070",
     "exception": false,
     "start_time": "2020-10-03T08:43:20.040408",
     "status": "completed"
    },
    "tags": []
   },
   "source": [
    "## Data Preprocessing 1. Handling Outliers"
   ]
  },
  {
   "cell_type": "code",
   "execution_count": 8,
   "metadata": {
    "execution": {
     "iopub.execute_input": "2020-10-03T08:43:20.126148Z",
     "iopub.status.busy": "2020-10-03T08:43:20.125008Z",
     "iopub.status.idle": "2020-10-03T08:43:21.420097Z",
     "shell.execute_reply": "2020-10-03T08:43:21.419374Z"
    },
    "papermill": {
     "duration": 1.33057,
     "end_time": "2020-10-03T08:43:21.420230",
     "exception": false,
     "start_time": "2020-10-03T08:43:20.089660",
     "status": "completed"
    },
    "tags": []
   },
   "outputs": [
    {
     "name": "stdout",
     "output_type": "stream",
     "text": [
      ">>> shape : (422419, 3)\n",
      ">>> number of NA : 0\n"
     ]
    },
    {
     "data": {
      "text/html": [
       "<div>\n",
       "<style scoped>\n",
       "    .dataframe tbody tr th:only-of-type {\n",
       "        vertical-align: middle;\n",
       "    }\n",
       "\n",
       "    .dataframe tbody tr th {\n",
       "        vertical-align: top;\n",
       "    }\n",
       "\n",
       "    .dataframe thead th {\n",
       "        text-align: right;\n",
       "    }\n",
       "</style>\n",
       "<table border=\"1\" class=\"dataframe\">\n",
       "  <thead>\n",
       "    <tr style=\"text-align: right;\">\n",
       "      <th></th>\n",
       "      <th>TITLE</th>\n",
       "      <th>CATEGORY</th>\n",
       "      <th>TITLE_len</th>\n",
       "    </tr>\n",
       "  </thead>\n",
       "  <tbody>\n",
       "    <tr>\n",
       "      <th>0</th>\n",
       "      <td>Fed official says weak data caused by weather,...</td>\n",
       "      <td>b</td>\n",
       "      <td>68</td>\n",
       "    </tr>\n",
       "    <tr>\n",
       "      <th>1</th>\n",
       "      <td>Fed's Charles Plosser sees high bar for change...</td>\n",
       "      <td>b</td>\n",
       "      <td>66</td>\n",
       "    </tr>\n",
       "    <tr>\n",
       "      <th>2</th>\n",
       "      <td>US open: Stocks fall after Fed official hints ...</td>\n",
       "      <td>b</td>\n",
       "      <td>69</td>\n",
       "    </tr>\n",
       "  </tbody>\n",
       "</table>\n",
       "</div>"
      ],
      "text/plain": [
       "                                               TITLE CATEGORY  TITLE_len\n",
       "0  Fed official says weak data caused by weather,...        b         68\n",
       "1  Fed's Charles Plosser sees high bar for change...        b         66\n",
       "2  US open: Stocks fall after Fed official hints ...        b         69"
      ]
     },
     "metadata": {},
     "output_type": "display_data"
    },
    {
     "data": {
      "text/html": [
       "<div>\n",
       "<style scoped>\n",
       "    .dataframe tbody tr th:only-of-type {\n",
       "        vertical-align: middle;\n",
       "    }\n",
       "\n",
       "    .dataframe tbody tr th {\n",
       "        vertical-align: top;\n",
       "    }\n",
       "\n",
       "    .dataframe thead th {\n",
       "        text-align: right;\n",
       "    }\n",
       "</style>\n",
       "<table border=\"1\" class=\"dataframe\">\n",
       "  <thead>\n",
       "    <tr style=\"text-align: right;\">\n",
       "      <th></th>\n",
       "      <th>TITLE</th>\n",
       "      <th>CATEGORY</th>\n",
       "      <th>TITLE_len</th>\n",
       "    </tr>\n",
       "  </thead>\n",
       "  <tbody>\n",
       "    <tr>\n",
       "      <th>422416</th>\n",
       "      <td>Child who swallowed battery to have reconstruc...</td>\n",
       "      <td>m</td>\n",
       "      <td>77</td>\n",
       "    </tr>\n",
       "    <tr>\n",
       "      <th>422417</th>\n",
       "      <td>Phoenix boy undergoes surgery to repair throat...</td>\n",
       "      <td>m</td>\n",
       "      <td>74</td>\n",
       "    </tr>\n",
       "    <tr>\n",
       "      <th>422418</th>\n",
       "      <td>Phoenix boy undergoes surgery to repair throat...</td>\n",
       "      <td>m</td>\n",
       "      <td>78</td>\n",
       "    </tr>\n",
       "  </tbody>\n",
       "</table>\n",
       "</div>"
      ],
      "text/plain": [
       "                                                    TITLE CATEGORY  TITLE_len\n",
       "422416  Child who swallowed battery to have reconstruc...        m         77\n",
       "422417  Phoenix boy undergoes surgery to repair throat...        m         74\n",
       "422418  Phoenix boy undergoes surgery to repair throat...        m         78"
      ]
     },
     "metadata": {},
     "output_type": "display_data"
    },
    {
     "data": {
      "image/png": "[encoded data removed]",
      "text/plain": [
       "<Figure size 1152x288 with 2 Axes>"
      ]
     },
     "metadata": {
      "needs_background": "light"
     },
     "output_type": "display_data"
    }
   ],
   "source": [
    "# Handling Outliers\n",
    "data.loc[data.TITLE_len>100, 'TITLE'] = data.loc[data.TITLE_len>100, 'TITLE'].apply(lambda x : x.split('\\thttp')[0])\n",
    "data.loc[data.TITLE.str.startswith('http://'), 'TITLE'] = data.loc[data.TITLE.str.startswith('http://'), 'TITLE'].apply(lambda x : x.split('//')[-1].split('.')[0] + '-' + x.split('//')[-1].split('.')[1] + '-'  + x.split('/')[-1])\n",
    "data['TITLE_len'] = data['TITLE'].apply(len)\n",
    "\n",
    "\n",
    "# Check result\n",
    "show_table(data)\n",
    "\n",
    "fig, ax = plt.subplots(1, 2, figsize=(16, 4))\n",
    "ax[0].hist(data.TITLE_len)\n",
    "ax[1].boxplot(data.TITLE_len, vert=False)\n",
    "plt.show()"
   ]
  },
  {
   "cell_type": "markdown",
   "metadata": {
    "papermill": {
     "duration": 0.024255,
     "end_time": "2020-10-03T08:43:21.469379",
     "exception": false,
     "start_time": "2020-10-03T08:43:21.445124",
     "status": "completed"
    },
    "tags": []
   },
   "source": [
    "## Data Preprocessing 2. Balance the Dataset in regard of Category\n",
    "- Applied down-sampling"
   ]
  },
  {
   "cell_type": "code",
   "execution_count": 9,
   "metadata": {
    "execution": {
     "iopub.execute_input": "2020-10-03T08:43:21.527884Z",
     "iopub.status.busy": "2020-10-03T08:43:21.527077Z",
     "iopub.status.idle": "2020-10-03T08:43:22.204277Z",
     "shell.execute_reply": "2020-10-03T08:43:22.203627Z"
    },
    "papermill": {
     "duration": 0.710249,
     "end_time": "2020-10-03T08:43:22.204415",
     "exception": false,
     "start_time": "2020-10-03T08:43:21.494166",
     "status": "completed"
    },
    "tags": []
   },
   "outputs": [
    {
     "name": "stdout",
     "output_type": "stream",
     "text": [
      ">>> shape : (180000, 3)\n",
      ">>> number of NA : 0\n"
     ]
    },
    {
     "data": {
      "text/html": [
       "<div>\n",
       "<style scoped>\n",
       "    .dataframe tbody tr th:only-of-type {\n",
       "        vertical-align: middle;\n",
       "    }\n",
       "\n",
       "    .dataframe tbody tr th {\n",
       "        vertical-align: top;\n",
       "    }\n",
       "\n",
       "    .dataframe thead th {\n",
       "        text-align: right;\n",
       "    }\n",
       "</style>\n",
       "<table border=\"1\" class=\"dataframe\">\n",
       "  <thead>\n",
       "    <tr style=\"text-align: right;\">\n",
       "      <th></th>\n",
       "      <th>TITLE</th>\n",
       "      <th>CATEGORY</th>\n",
       "      <th>TITLE_len</th>\n",
       "    </tr>\n",
       "  </thead>\n",
       "  <tbody>\n",
       "    <tr>\n",
       "      <th>177842</th>\n",
       "      <td>Indiana Corn Planted up 11 Percent Despite Lim...</td>\n",
       "      <td>b</td>\n",
       "      <td>61</td>\n",
       "    </tr>\n",
       "    <tr>\n",
       "      <th>83362</th>\n",
       "      <td>Wu-Tang Affiliated Rapper Cuts Off Private Par...</td>\n",
       "      <td>e</td>\n",
       "      <td>68</td>\n",
       "    </tr>\n",
       "    <tr>\n",
       "      <th>54727</th>\n",
       "      <td>Harrison Ford Has Been Injured By The Millenni...</td>\n",
       "      <td>e</td>\n",
       "      <td>55</td>\n",
       "    </tr>\n",
       "  </tbody>\n",
       "</table>\n",
       "</div>"
      ],
      "text/plain": [
       "                                                    TITLE CATEGORY  TITLE_len\n",
       "177842  Indiana Corn Planted up 11 Percent Despite Lim...        b         61\n",
       "83362   Wu-Tang Affiliated Rapper Cuts Off Private Par...        e         68\n",
       "54727   Harrison Ford Has Been Injured By The Millenni...        e         55"
      ]
     },
     "metadata": {},
     "output_type": "display_data"
    },
    {
     "data": {
      "text/html": [
       "<div>\n",
       "<style scoped>\n",
       "    .dataframe tbody tr th:only-of-type {\n",
       "        vertical-align: middle;\n",
       "    }\n",
       "\n",
       "    .dataframe tbody tr th {\n",
       "        vertical-align: top;\n",
       "    }\n",
       "\n",
       "    .dataframe thead th {\n",
       "        text-align: right;\n",
       "    }\n",
       "</style>\n",
       "<table border=\"1\" class=\"dataframe\">\n",
       "  <thead>\n",
       "    <tr style=\"text-align: right;\">\n",
       "      <th></th>\n",
       "      <th>TITLE</th>\n",
       "      <th>CATEGORY</th>\n",
       "      <th>TITLE_len</th>\n",
       "    </tr>\n",
       "  </thead>\n",
       "  <tbody>\n",
       "    <tr>\n",
       "      <th>29915</th>\n",
       "      <td>The Andromeda Strain - Scientist who discovere...</td>\n",
       "      <td>m</td>\n",
       "      <td>76</td>\n",
       "    </tr>\n",
       "    <tr>\n",
       "      <th>79423</th>\n",
       "      <td>Kanye West - Kanye West gives Kim Kardashian p...</td>\n",
       "      <td>e</td>\n",
       "      <td>53</td>\n",
       "    </tr>\n",
       "    <tr>\n",
       "      <th>103832</th>\n",
       "      <td>iPhone 6 sapphire display crystal display: unb...</td>\n",
       "      <td>t</td>\n",
       "      <td>65</td>\n",
       "    </tr>\n",
       "  </tbody>\n",
       "</table>\n",
       "</div>"
      ],
      "text/plain": [
       "                                                    TITLE CATEGORY  TITLE_len\n",
       "29915   The Andromeda Strain - Scientist who discovere...        m         76\n",
       "79423   Kanye West - Kanye West gives Kim Kardashian p...        e         53\n",
       "103832  iPhone 6 sapphire display crystal display: unb...        t         65"
      ]
     },
     "metadata": {},
     "output_type": "display_data"
    },
    {
     "data": {
      "text/html": [
       "<div>\n",
       "<style scoped>\n",
       "    .dataframe tbody tr th:only-of-type {\n",
       "        vertical-align: middle;\n",
       "    }\n",
       "\n",
       "    .dataframe tbody tr th {\n",
       "        vertical-align: top;\n",
       "    }\n",
       "\n",
       "    .dataframe thead th {\n",
       "        text-align: right;\n",
       "    }\n",
       "</style>\n",
       "<table border=\"1\" class=\"dataframe\">\n",
       "  <thead>\n",
       "    <tr style=\"text-align: right;\">\n",
       "      <th></th>\n",
       "      <th>m</th>\n",
       "      <th>e</th>\n",
       "      <th>t</th>\n",
       "      <th>b</th>\n",
       "    </tr>\n",
       "  </thead>\n",
       "  <tbody>\n",
       "    <tr>\n",
       "      <th>CATEGORY</th>\n",
       "      <td>45000</td>\n",
       "      <td>45000</td>\n",
       "      <td>45000</td>\n",
       "      <td>45000</td>\n",
       "    </tr>\n",
       "  </tbody>\n",
       "</table>\n",
       "</div>"
      ],
      "text/plain": [
       "              m      e      t      b\n",
       "CATEGORY  45000  45000  45000  45000"
      ]
     },
     "metadata": {},
     "output_type": "display_data"
    }
   ],
   "source": [
    "sample_num = 45000\n",
    "data_shuffled = data.reindex(np.random.permutation(data.index))\n",
    "train_df = pd.concat([data_shuffled[data_shuffled['CATEGORY']==cat][:sample_num] for cat in data_shuffled.CATEGORY.unique()],\n",
    "                     ignore_index=True)\n",
    "train_df = train_df.reindex(np.random.permutation(train_df.index))\n",
    "\n",
    "\n",
    "# Check the result\n",
    "show_table(train_df)\n",
    "display(train_df.CATEGORY.value_counts().to_frame().T)"
   ]
  },
  {
   "cell_type": "markdown",
   "metadata": {
    "papermill": {
     "duration": 0.027172,
     "end_time": "2020-10-03T08:43:22.259104",
     "exception": false,
     "start_time": "2020-10-03T08:43:22.231932",
     "status": "completed"
    },
    "tags": []
   },
   "source": [
    "## Data Preprocessing 3. Encoding the Target Feature (Category)\n",
    "- applied one-hot encoding"
   ]
  },
  {
   "cell_type": "code",
   "execution_count": 10,
   "metadata": {
    "execution": {
     "iopub.execute_input": "2020-10-03T08:43:22.333716Z",
     "iopub.status.busy": "2020-10-03T08:43:22.328354Z",
     "iopub.status.idle": "2020-10-03T08:43:22.398075Z",
     "shell.execute_reply": "2020-10-03T08:43:22.398708Z"
    },
    "papermill": {
     "duration": 0.111797,
     "end_time": "2020-10-03T08:43:22.398881",
     "exception": false,
     "start_time": "2020-10-03T08:43:22.287084",
     "status": "completed"
    },
    "tags": []
   },
   "outputs": [
    {
     "name": "stdout",
     "output_type": "stream",
     "text": [
      "[0 1 1 0 0] \n",
      "\n",
      "[[1. 0. 0. 0.]\n",
      " [0. 1. 0. 0.]\n",
      " [0. 1. 0. 0.]\n",
      " [1. 0. 0. 0.]\n",
      " [1. 0. 0. 0.]]\n"
     ]
    }
   ],
   "source": [
    "# Label Encoding\n",
    "lb_enc = LabelEncoder()\n",
    "label_arr = lb_enc.fit_transform(train_df['CATEGORY'])\n",
    "print(label_arr[:5], '\\n')\n",
    "\n",
    "# One-hot Encoding\n",
    "one_hot_arr = to_categorical(label_arr, num_classes=4)\n",
    "print(one_hot_arr[:5])"
   ]
  },
  {
   "cell_type": "code",
   "execution_count": null,
   "metadata": {
    "papermill": {
     "duration": 0.027658,
     "end_time": "2020-10-03T08:43:22.454665",
     "exception": false,
     "start_time": "2020-10-03T08:43:22.427007",
     "status": "completed"
    },
    "tags": []
   },
   "outputs": [],
   "source": []
  }
 ],
 "metadata": {
  "kernelspec": {
   "display_name": "Python 3",
   "language": "python",
   "name": "python3"
  },
  "language_info": {
   "codemirror_mode": {
    "name": "ipython",
    "version": 3
   },
   "file_extension": ".py",
   "mimetype": "text/x-python",
   "name": "python",
   "nbconvert_exporter": "python",
   "pygments_lexer": "ipython3",
   "version": "3.7.6"
  },
  "papermill": {
   "duration": 25.161919,
   "end_time": "2020-10-03T08:43:23.575798",
   "environment_variables": {},
   "exception": null,
   "input_path": "__notebook__.ipynb",
   "output_path": "__notebook__.ipynb",
   "parameters": {},
   "start_time": "2020-10-03T08:42:58.413879",
   "version": "2.1.0"
  }
 },
 "nbformat": 4,
 "nbformat_minor": 4
}
